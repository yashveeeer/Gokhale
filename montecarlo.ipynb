{
  "nbformat": 4,
  "nbformat_minor": 0,
  "metadata": {
    "colab": {
      "provenance": [],
      "collapsed_sections": [],
      "authorship_tag": "ABX9TyOqEHP5NPmsBIgV2sfHREoU"
    },
    "kernelspec": {
      "name": "python3",
      "display_name": "Python 3"
    },
    "language_info": {
      "name": "python"
    }
  },
  "cells": [
    {
      "cell_type": "markdown",
      "source": [
        "#**Assignment For Financial Economics**\n",
        "#**Monte-Carlo Simulation**\n",
        "\n",
        "Submitted by Yashveer Singh\n",
        "\n",
        "\n"
      ],
      "metadata": {
        "id": "tkaisF0kJRpK"
      }
    },
    {
      "cell_type": "markdown",
      "source": [
        "**Importing The Libraries**"
      ],
      "metadata": {
        "id": "-4Fo4z-LKYc1"
      }
    },
    {
      "cell_type": "code",
      "source": [
        "# Import dependencies\n",
        "import math\n",
        "import numpy as np\n",
        "import pandas as pd\n",
        "import datetime\n",
        "import scipy.stats as stats\n",
        "import matplotlib.pyplot as plt\n",
        "from pandas_datareader import data as pdr"
      ],
      "metadata": {
        "id": "lUUs84LldKqX"
      },
      "execution_count": 2,
      "outputs": []
    },
    {
      "cell_type": "markdown",
      "source": [
        "**Black-Scholes Model**"
      ],
      "metadata": {
        "id": "KIBPnFsGKipB"
      }
    },
    {
      "cell_type": "code",
      "execution_count": 21,
      "metadata": {
        "colab": {
          "base_uri": "https://localhost:8080/"
        },
        "id": "YOkLNSa9bG7W",
        "outputId": "033e2a70-5d15-4ab3-ddbf-2f38af97906e"
      },
      "outputs": [
        {
          "output_type": "stream",
          "name": "stdout",
          "text": [
            "2.0027397260273974\n"
          ]
        }
      ],
      "source": [
        "# initial derivative parameters \n",
        "S = 100                      #stock price\n",
        "K = 120                      #strike price\n",
        "vol = 0.2                    #volatility (%)\n",
        "r = 0.04                     #risk-free rate (%)\n",
        "N = 10                       #number of time steps\n",
        "M = 10000                     #number of simulations\n",
        "\n",
        "market_value = 7.223577      #market price of option\n",
        "T = ((datetime.date(2022,10,12)-datetime.date(2020,10,12)).days+1)/365    #time in years\n",
        "print(T)"
      ]
    },
    {
      "cell_type": "markdown",
      "source": [
        "A Monte Carlo simulation is used to model the probability of different outcomes in a process that cannot easily be predicted due to the intervention of random variables. It is a technique used to understand the impact of risk and uncertainty.\n",
        "A Monte Carlo simulation is a model used to predict the probability of a variety of outcomes when the potential for random variables is present."
      ],
      "metadata": {
        "id": "JSaqccudLSYL"
      }
    },
    {
      "cell_type": "code",
      "source": [
        "#precompute constants\n",
        "dt = T/N\n",
        "nudt = (r - 0.5*vol**2)*dt\n",
        "volsdt = vol*np.sqrt(dt)\n",
        "lnS = np.log(S)"
      ],
      "metadata": {
        "id": "Z3AsMV7EfYao"
      },
      "execution_count": 25,
      "outputs": []
    },
    {
      "cell_type": "code",
      "source": [
        "# Monte Carlo Method\n",
        "Z = np.random.normal(size=(N, M)) \n",
        "delta_lnSt = nudt + volsdt*Z \n",
        "lnSt = lnS + np.cumsum(delta_lnSt, axis=0)\n",
        "lnSt = np.concatenate( (np.full(shape=(1, M), fill_value=lnS), lnSt ) )"
      ],
      "metadata": {
        "id": "1RFfo8apfl3L"
      },
      "execution_count": 26,
      "outputs": []
    },
    {
      "cell_type": "code",
      "source": [
        "# Compute Expectation and SE\n",
        "ST = np.exp(lnSt)\n",
        "CT = np.maximum(0, ST - K)\n",
        "C0 = np.exp(-r*T)*np.sum(CT[-1])/M\n",
        "sigma = np.sqrt( np.sum( (CT[-1] - C0)**2) / (M-1) )\n",
        "SE = sigma/np.sqrt(M)\n",
        "print(\"Call value is ${0} with SE +/- {1}\".format(np.round(C0,2),np.round(SE,2)))"
      ],
      "metadata": {
        "colab": {
          "base_uri": "https://localhost:8080/"
        },
        "id": "vjyZH3xPfpVC",
        "outputId": "e071f50a-90b6-4a4b-dbce-880aa1a4aec3"
      },
      "execution_count": 27,
      "outputs": [
        {
          "output_type": "stream",
          "name": "stdout",
          "text": [
            "Call value is $7.35 with SE +/- 0.18\n"
          ]
        }
      ]
    },
    {
      "cell_type": "markdown",
      "source": [
        "Convergence of the Monte Carlo Method means that you will get an approximately good estimation of your estimator. This convergence is implied by the law of large numbers. Specifically, it meets the requirement for the strong law of large numbers which in turn implies the weak law of large numbers."
      ],
      "metadata": {
        "id": "J-MW4hYJQSGS"
      }
    },
    {
      "cell_type": "markdown",
      "source": [
        "# **Visualisation of Convergence**"
      ],
      "metadata": {
        "id": "khjuqQDnf8nt"
      }
    },
    {
      "cell_type": "code",
      "source": [
        "x1 = np.linspace(C0-3*SE, C0-1*SE, 100)\n",
        "x2 = np.linspace(C0-1*SE, C0+1*SE, 100)\n",
        "x3 = np.linspace(C0+1*SE, C0+3*SE, 100)\n",
        "s1 = stats.norm.pdf(x1, C0, SE)\n",
        "s2 = stats.norm.pdf(x2, C0, SE)\n",
        "s3 = stats.norm.pdf(x3, C0, SE)\n",
        "plt.fill_between(x1, s1, color='tab:blue',label='> StDev')\n",
        "plt.fill_between(x2, s2, color='cornflowerblue',label='1 StDev')\n",
        "plt.fill_between(x3, s3, color='tab:blue')\n",
        "plt.plot([C0,C0],[0, max(s2)*1.1], 'k',\n",
        "        label='Theoretical Value')\n",
        "plt.plot([market_value,market_value],[0, max(s2)*1.1], 'r',\n",
        "        label='Market Value')\n",
        "plt.ylabel(\"Probability\")\n",
        "plt.xlabel(\"Option Price\")\n",
        "plt.legend()\n",
        "plt.show()"
      ],
      "metadata": {
        "colab": {
          "base_uri": "https://localhost:8080/",
          "height": 279
        },
        "id": "71sIEIx-f7x9",
        "outputId": "4e60a657-0071-442b-9596-f8c7cf804860"
      },
      "execution_count": 7,
      "outputs": [
        {
          "output_type": "display_data",
          "data": {
            "text/plain": [
              "<Figure size 432x288 with 1 Axes>"
            ],
            "image/png": "[encoded data removed]"
          },
          "metadata": {
            "needs_background": "light"
          }
        }
      ]
    },
    {
      "cell_type": "code",
      "source": [
        "import scipy.stats as stats"
      ],
      "metadata": {
        "id": "gywzLVndVv-q"
      },
      "execution_count": 8,
      "outputs": []
    },
    {
      "cell_type": "markdown",
      "source": [
        "# Antithetic Variates"
      ],
      "metadata": {
        "id": "U3oOqjpMZa95"
      }
    },
    {
      "cell_type": "code",
      "source": [
        "#precompute constants\n",
        "N = 1\n",
        "dt = T/N\n",
        "nudt = (r - 0.5*vol**2)*dt\n",
        "volsdt = vol*np.sqrt(dt)\n",
        "lnS = np.log(S)\n"
      ],
      "metadata": {
        "id": "Pq4jFtsxWAOZ"
      },
      "execution_count": 28,
      "outputs": []
    },
    {
      "cell_type": "code",
      "source": [
        "# Monte Carlo Method\n",
        "Z = np.random.normal(size=(N, M)) \n",
        "delta_lnSt1 = nudt + volsdt*Z \n",
        "delta_lnSt2 = nudt - volsdt*Z \n",
        "lnSt1 = lnS + np.cumsum(delta_lnSt1, axis=0)\n",
        "lnSt2 = lnS + np.cumsum(delta_lnSt2, axis=0)"
      ],
      "metadata": {
        "id": "uiuega-UWIGD"
      },
      "execution_count": 29,
      "outputs": []
    },
    {
      "cell_type": "code",
      "source": [
        "# Compute Expectation and SE\n",
        "ST1 = np.exp(lnSt1)\n",
        "ST2 = np.exp(lnSt2)\n",
        "CT = 0.5 * ( np.maximum(0, ST1[-1] - K) + np.maximum(0, ST2[-1] - K) )\n",
        "C0 = np.exp(-r*T)*np.sum(CT)/M\n",
        "sigma = np.sqrt( np.sum( (CT - C0)**2) / (M-1) )\n",
        "SE = sigma/np.sqrt(M)\n",
        "print(\"Call value is ${0} with SE +/- {1}\".format(np.round(C0,2),np.round(SE,2)))"
      ],
      "metadata": {
        "colab": {
          "base_uri": "https://localhost:8080/"
        },
        "id": "qkPR025HWL7L",
        "outputId": "475292b0-ce91-4175-9518-3623547b5758"
      },
      "execution_count": 30,
      "outputs": [
        {
          "output_type": "stream",
          "name": "stdout",
          "text": [
            "Call value is $7.09 with SE +/- 0.11\n"
          ]
        }
      ]
    },
    {
      "cell_type": "markdown",
      "source": [
        "**Without Antithetic Variate**"
      ],
      "metadata": {
        "id": "fF8Mt2ESZLWn"
      }
    },
    {
      "cell_type": "code",
      "source": [
        "#precompute constants\n",
        "N = 1\n",
        "dt = T/N\n",
        "nudt = (r - 0.5*vol**2)*dt\n",
        "volsdt = vol*np.sqrt(dt)\n",
        "lnS = np.log(S)"
      ],
      "metadata": {
        "id": "LkV03cSsWgKT"
      },
      "execution_count": 31,
      "outputs": []
    },
    {
      "cell_type": "code",
      "source": [
        "# Monte Carlo Method\n",
        "Z = np.random.normal(size=(N, M)) \n",
        "delta_lnSt = nudt + volsdt*Z \n",
        "lnSt = lnS + np.cumsum(delta_lnSt, axis=0)\n",
        "lnSt = np.concatenate( (np.full(shape=(1, M), fill_value=lnS), lnSt ) )"
      ],
      "metadata": {
        "id": "cHZXWbozWwk3"
      },
      "execution_count": 32,
      "outputs": []
    },
    {
      "cell_type": "code",
      "source": [
        "# Compute Expectation and SE\n",
        "ST = np.exp(lnSt)\n",
        "CT = np.maximum(0, ST - K)\n",
        "C0w = np.exp(-r*T)*np.sum(CT[-1])/M\n",
        "sigma = np.sqrt( np.sum( (CT[-1] - C0)**2) / (M-1) )\n",
        "SEw = sigma/np.sqrt(M)\n",
        "print(\"Call value is ${0} with SE +/- {1}\".format(np.round(C0,2),np.round(SE,2)))"
      ],
      "metadata": {
        "colab": {
          "base_uri": "https://localhost:8080/"
        },
        "id": "KZApGr1gWy9H",
        "outputId": "1f57cf74-10fb-4407-dfb9-c60279c84ced"
      },
      "execution_count": 33,
      "outputs": [
        {
          "output_type": "stream",
          "name": "stdout",
          "text": [
            "Call value is $7.09 with SE +/- 0.11\n"
          ]
        }
      ]
    },
    {
      "cell_type": "markdown",
      "source": [
        "**Visualisation of Convergence**\n"
      ],
      "metadata": {
        "id": "pFJSmbYmY5Eg"
      }
    },
    {
      "cell_type": "code",
      "source": [
        "x1 = np.linspace(C0-3*SE, C0-1*SE, 100)\n",
        "x2 = np.linspace(C0-1*SE, C0+1*SE, 100)\n",
        "x3 = np.linspace(C0+1*SE, C0+3*SE, 100)\n",
        "xw = np.linspace(C0w-3*SEw, C0w+3*SEw, 100)\n",
        "s1 = stats.norm.pdf(x1, C0, SE)\n",
        "s2 = stats.norm.pdf(x2, C0, SE)\n",
        "s3 = stats.norm.pdf(x3, C0, SE)\n",
        "sw = stats.norm.pdf(xw, C0w, SEw)\n",
        "plt.fill_between(x1, s1, color='tab:blue',label='> StDev')\n",
        "plt.fill_between(x2, s2, color='cornflowerblue',label='1 StDev')\n",
        "plt.fill_between(x3, s3, color='tab:blue')\n",
        "plt.plot(xw, sw, 'g-')\n",
        "plt.fill_between(xw, sw, alpha=0.2, color='tab:green', label='w/o Antithetic')\n",
        "plt.plot([C0,C0],[0, max(s2)*1.1], 'k',\n",
        "        label='Theoretical Value')\n",
        "plt.plot([C0w,C0w],[0, max(s2)*1.1], color='tab:green',\n",
        "        label='Value w/o Antithetic')\n",
        "plt.plot([market_value,market_value],[0, max(s2)*1.1], 'r',\n",
        "        label='Market Value')\n",
        "plt.ylabel(\"Probability\")\n",
        "plt.xlabel(\"Option Price\")\n",
        "plt.legend()\n",
        "plt.show()"
      ],
      "metadata": {
        "colab": {
          "base_uri": "https://localhost:8080/",
          "height": 279
        },
        "id": "tCOp50tqWXDT",
        "outputId": "f47c484d-22b5-4207-e69b-22f7934cc11c"
      },
      "execution_count": 34,
      "outputs": [
        {
          "output_type": "display_data",
          "data": {
            "text/plain": [
              "<Figure size 432x288 with 1 Axes>"
            ],
            "image/png": "[encoded data removed]"
          },
          "metadata": {
            "needs_background": "light"
          }
        }
      ]
    },
    {
      "cell_type": "markdown",
      "source": [
        "*  Codes Imported: Quantpy \n",
        "*  Submitted to: Anurag Singh"
      ],
      "metadata": {
        "id": "wWl_66iGaHiC"
      }
    }
  ]
}